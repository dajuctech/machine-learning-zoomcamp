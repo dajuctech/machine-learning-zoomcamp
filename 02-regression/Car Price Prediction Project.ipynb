{
 "cells": [
  {
   "cell_type": "markdown",
   "id": "2c7001df-7697-4ba0-8d4b-ef90473d7d47",
   "metadata": {},
   "source": [
    "#### 1. Initial Setup and Importing Libraries"
   ]
  },
  {
   "cell_type": "code",
   "execution_count": 58,
   "id": "9f163601-b102-4467-bc28-43b9aeebdd2e",
   "metadata": {},
   "outputs": [
    {
     "name": "stdout",
     "output_type": "stream",
     "text": [
      "Requirement already satisfied: pandas in c:\\users\\user\\appdata\\local\\programs\\python\\python312\\lib\\site-packages (2.2.2)\n",
      "Requirement already satisfied: numpy>=1.26.0 in c:\\users\\user\\appdata\\local\\programs\\python\\python312\\lib\\site-packages (from pandas) (1.26.4)\n",
      "Requirement already satisfied: python-dateutil>=2.8.2 in c:\\users\\user\\appdata\\local\\programs\\python\\python312\\lib\\site-packages (from pandas) (2.9.0.post0)\n",
      "Requirement already satisfied: pytz>=2020.1 in c:\\users\\user\\appdata\\local\\programs\\python\\python312\\lib\\site-packages (from pandas) (2024.1)\n",
      "Requirement already satisfied: tzdata>=2022.7 in c:\\users\\user\\appdata\\local\\programs\\python\\python312\\lib\\site-packages (from pandas) (2024.1)\n",
      "Requirement already satisfied: six>=1.5 in c:\\users\\user\\appdata\\local\\programs\\python\\python312\\lib\\site-packages (from python-dateutil>=2.8.2->pandas) (1.16.0)\n"
     ]
    }
   ],
   "source": [
    "!pip install pandas\n",
    "#Used for data manipulation (e.g., loading CSVs).\n",
    "import pandas as pd\n",
    "#Used for numerical operations and array manipulation\n",
    "import numpy as np\n",
    "#Used for statistical data visualization.\n",
    "import seaborn as sns\n",
    "#Used for plotting graphs and figures.\n",
    "from matplotlib import pyplot as plt\n",
    "#Ensures plots appear inside Jupyter notebooks.\n",
    "%matplotlib inline"
   ]
  },
  {
   "cell_type": "code",
   "execution_count": 59,
   "id": "3fccc4cc-5666-4afc-9fcf-d0d83b441194",
   "metadata": {},
   "outputs": [],
   "source": [
    "# Load the CSV file 'data.csv' into a pandas DataFrame\n",
    "df = pd.read_csv('data.csv')"
   ]
  },
  {
   "cell_type": "code",
   "execution_count": 60,
   "id": "b383378b-404f-42fb-97e8-841e300074a7",
   "metadata": {
    "scrolled": true
   },
   "outputs": [
    {
     "data": {
      "text/plain": [
       "11914"
      ]
     },
     "execution_count": 60,
     "metadata": {},
     "output_type": "execute_result"
    }
   ],
   "source": [
    "# Get the number of rows in the DataFrame 'df'\n",
    "len(df)"
   ]
  },
  {
   "cell_type": "code",
   "execution_count": 61,
   "id": "5ce0e2f1-5edd-49f6-9c45-146995c235ca",
   "metadata": {
    "scrolled": true
   },
   "outputs": [
    {
     "data": {
      "text/html": [
       "<div>\n",
       "<style scoped>\n",
       "    .dataframe tbody tr th:only-of-type {\n",
       "        vertical-align: middle;\n",
       "    }\n",
       "\n",
       "    .dataframe tbody tr th {\n",
       "        vertical-align: top;\n",
       "    }\n",
       "\n",
       "    .dataframe thead th {\n",
       "        text-align: right;\n",
       "    }\n",
       "</style>\n",
       "<table border=\"1\" class=\"dataframe\">\n",
       "  <thead>\n",
       "    <tr style=\"text-align: right;\">\n",
       "      <th></th>\n",
       "      <th>Make</th>\n",
       "      <th>Model</th>\n",
       "      <th>Year</th>\n",
       "      <th>Engine Fuel Type</th>\n",
       "      <th>Engine HP</th>\n",
       "      <th>Engine Cylinders</th>\n",
       "      <th>Transmission Type</th>\n",
       "      <th>Driven_Wheels</th>\n",
       "      <th>Number of Doors</th>\n",
       "      <th>Market Category</th>\n",
       "      <th>Vehicle Size</th>\n",
       "      <th>Vehicle Style</th>\n",
       "      <th>highway MPG</th>\n",
       "      <th>city mpg</th>\n",
       "      <th>Popularity</th>\n",
       "      <th>MSRP</th>\n",
       "    </tr>\n",
       "  </thead>\n",
       "  <tbody>\n",
       "    <tr>\n",
       "      <th>0</th>\n",
       "      <td>BMW</td>\n",
       "      <td>1 Series M</td>\n",
       "      <td>2011</td>\n",
       "      <td>premium unleaded (required)</td>\n",
       "      <td>335.0</td>\n",
       "      <td>6.0</td>\n",
       "      <td>MANUAL</td>\n",
       "      <td>rear wheel drive</td>\n",
       "      <td>2.0</td>\n",
       "      <td>Factory Tuner,Luxury,High-Performance</td>\n",
       "      <td>Compact</td>\n",
       "      <td>Coupe</td>\n",
       "      <td>26</td>\n",
       "      <td>19</td>\n",
       "      <td>3916</td>\n",
       "      <td>46135</td>\n",
       "    </tr>\n",
       "    <tr>\n",
       "      <th>1</th>\n",
       "      <td>BMW</td>\n",
       "      <td>1 Series</td>\n",
       "      <td>2011</td>\n",
       "      <td>premium unleaded (required)</td>\n",
       "      <td>300.0</td>\n",
       "      <td>6.0</td>\n",
       "      <td>MANUAL</td>\n",
       "      <td>rear wheel drive</td>\n",
       "      <td>2.0</td>\n",
       "      <td>Luxury,Performance</td>\n",
       "      <td>Compact</td>\n",
       "      <td>Convertible</td>\n",
       "      <td>28</td>\n",
       "      <td>19</td>\n",
       "      <td>3916</td>\n",
       "      <td>40650</td>\n",
       "    </tr>\n",
       "    <tr>\n",
       "      <th>2</th>\n",
       "      <td>BMW</td>\n",
       "      <td>1 Series</td>\n",
       "      <td>2011</td>\n",
       "      <td>premium unleaded (required)</td>\n",
       "      <td>300.0</td>\n",
       "      <td>6.0</td>\n",
       "      <td>MANUAL</td>\n",
       "      <td>rear wheel drive</td>\n",
       "      <td>2.0</td>\n",
       "      <td>Luxury,High-Performance</td>\n",
       "      <td>Compact</td>\n",
       "      <td>Coupe</td>\n",
       "      <td>28</td>\n",
       "      <td>20</td>\n",
       "      <td>3916</td>\n",
       "      <td>36350</td>\n",
       "    </tr>\n",
       "    <tr>\n",
       "      <th>3</th>\n",
       "      <td>BMW</td>\n",
       "      <td>1 Series</td>\n",
       "      <td>2011</td>\n",
       "      <td>premium unleaded (required)</td>\n",
       "      <td>230.0</td>\n",
       "      <td>6.0</td>\n",
       "      <td>MANUAL</td>\n",
       "      <td>rear wheel drive</td>\n",
       "      <td>2.0</td>\n",
       "      <td>Luxury,Performance</td>\n",
       "      <td>Compact</td>\n",
       "      <td>Coupe</td>\n",
       "      <td>28</td>\n",
       "      <td>18</td>\n",
       "      <td>3916</td>\n",
       "      <td>29450</td>\n",
       "    </tr>\n",
       "    <tr>\n",
       "      <th>4</th>\n",
       "      <td>BMW</td>\n",
       "      <td>1 Series</td>\n",
       "      <td>2011</td>\n",
       "      <td>premium unleaded (required)</td>\n",
       "      <td>230.0</td>\n",
       "      <td>6.0</td>\n",
       "      <td>MANUAL</td>\n",
       "      <td>rear wheel drive</td>\n",
       "      <td>2.0</td>\n",
       "      <td>Luxury</td>\n",
       "      <td>Compact</td>\n",
       "      <td>Convertible</td>\n",
       "      <td>28</td>\n",
       "      <td>18</td>\n",
       "      <td>3916</td>\n",
       "      <td>34500</td>\n",
       "    </tr>\n",
       "  </tbody>\n",
       "</table>\n",
       "</div>"
      ],
      "text/plain": [
       "  Make       Model  Year             Engine Fuel Type  Engine HP  \\\n",
       "0  BMW  1 Series M  2011  premium unleaded (required)      335.0   \n",
       "1  BMW    1 Series  2011  premium unleaded (required)      300.0   \n",
       "2  BMW    1 Series  2011  premium unleaded (required)      300.0   \n",
       "3  BMW    1 Series  2011  premium unleaded (required)      230.0   \n",
       "4  BMW    1 Series  2011  premium unleaded (required)      230.0   \n",
       "\n",
       "   Engine Cylinders Transmission Type     Driven_Wheels  Number of Doors  \\\n",
       "0               6.0            MANUAL  rear wheel drive              2.0   \n",
       "1               6.0            MANUAL  rear wheel drive              2.0   \n",
       "2               6.0            MANUAL  rear wheel drive              2.0   \n",
       "3               6.0            MANUAL  rear wheel drive              2.0   \n",
       "4               6.0            MANUAL  rear wheel drive              2.0   \n",
       "\n",
       "                         Market Category Vehicle Size Vehicle Style  \\\n",
       "0  Factory Tuner,Luxury,High-Performance      Compact         Coupe   \n",
       "1                     Luxury,Performance      Compact   Convertible   \n",
       "2                Luxury,High-Performance      Compact         Coupe   \n",
       "3                     Luxury,Performance      Compact         Coupe   \n",
       "4                                 Luxury      Compact   Convertible   \n",
       "\n",
       "   highway MPG  city mpg  Popularity   MSRP  \n",
       "0           26        19        3916  46135  \n",
       "1           28        19        3916  40650  \n",
       "2           28        20        3916  36350  \n",
       "3           28        18        3916  29450  \n",
       "4           28        18        3916  34500  "
      ]
     },
     "execution_count": 61,
     "metadata": {},
     "output_type": "execute_result"
    }
   ],
   "source": [
    " # Display the first 5 rows of the DataFrame 'df'\n",
    "df.head()"
   ]
  },
  {
   "cell_type": "code",
   "execution_count": 62,
   "id": "bebc9781-7d2f-4acd-a821-718794365e29",
   "metadata": {},
   "outputs": [
    {
     "data": {
      "text/plain": [
       "Index(['Make', 'Model', 'Year', 'Engine Fuel Type', 'Engine HP',\n",
       "       'Engine Cylinders', 'Transmission Type', 'Driven_Wheels',\n",
       "       'Number of Doors', 'Market Category', 'Vehicle Size', 'Vehicle Style',\n",
       "       'highway MPG', 'city mpg', 'Popularity', 'MSRP'],\n",
       "      dtype='object')"
      ]
     },
     "execution_count": 62,
     "metadata": {},
     "output_type": "execute_result"
    }
   ],
   "source": [
    "df.columns"
   ]
  },
  {
   "cell_type": "code",
   "execution_count": 63,
   "id": "d03bb332-bacf-430e-9132-385efeb69e74",
   "metadata": {},
   "outputs": [
    {
     "data": {
      "text/plain": [
       "Index(['make', 'model', 'year', 'engine fuel type', 'engine hp',\n",
       "       'engine cylinders', 'transmission type', 'driven_wheels',\n",
       "       'number of doors', 'market category', 'vehicle size', 'vehicle style',\n",
       "       'highway mpg', 'city mpg', 'popularity', 'msrp'],\n",
       "      dtype='object')"
      ]
     },
     "execution_count": 63,
     "metadata": {},
     "output_type": "execute_result"
    }
   ],
   "source": [
    "df.columns.str.lower()"
   ]
  },
  {
   "cell_type": "code",
   "execution_count": 64,
   "id": "44a2ce10-03fe-4e0d-84bf-1e37e21ea8c5",
   "metadata": {},
   "outputs": [
    {
     "data": {
      "text/plain": [
       "Index(['make', 'model', 'year', 'engine_fuel_type', 'engine_hp',\n",
       "       'engine_cylinders', 'transmission_type', 'driven_wheels',\n",
       "       'number_of_doors', 'market_category', 'vehicle_size', 'vehicle_style',\n",
       "       'highway_mpg', 'city_mpg', 'popularity', 'msrp'],\n",
       "      dtype='object')"
      ]
     },
     "execution_count": 64,
     "metadata": {},
     "output_type": "execute_result"
    }
   ],
   "source": [
    "df.columns.str.lower().str.replace(' ', '_')"
   ]
  },
  {
   "cell_type": "code",
   "execution_count": 65,
   "id": "3854eab2-aa9a-4801-8f53-571a37d33908",
   "metadata": {},
   "outputs": [],
   "source": [
    "# Convert column names to lowercase and replace spaces with underscores for easier access.\n",
    "df.columns = df.columns.str.lower().str.replace(' ', '_')"
   ]
  },
  {
   "cell_type": "code",
   "execution_count": 66,
   "id": "5089b108-5a1e-4245-a399-cc99b703404d",
   "metadata": {},
   "outputs": [
    {
     "data": {
      "text/plain": [
       "make                  object\n",
       "model                 object\n",
       "year                   int64\n",
       "engine_fuel_type      object\n",
       "engine_hp            float64\n",
       "engine_cylinders     float64\n",
       "transmission_type     object\n",
       "driven_wheels         object\n",
       "number_of_doors      float64\n",
       "market_category       object\n",
       "vehicle_size          object\n",
       "vehicle_style         object\n",
       "highway_mpg            int64\n",
       "city_mpg               int64\n",
       "popularity             int64\n",
       "msrp                   int64\n",
       "dtype: object"
      ]
     },
     "execution_count": 66,
     "metadata": {},
     "output_type": "execute_result"
    }
   ],
   "source": [
    "df.dtypes"
   ]
  },
  {
   "cell_type": "code",
   "execution_count": 67,
   "id": "d1fd6133-3973-4170-b9ab-c4c8b9d2d66f",
   "metadata": {},
   "outputs": [
    {
     "data": {
      "text/plain": [
       "make                 object\n",
       "model                object\n",
       "engine_fuel_type     object\n",
       "transmission_type    object\n",
       "driven_wheels        object\n",
       "market_category      object\n",
       "vehicle_size         object\n",
       "vehicle_style        object\n",
       "dtype: object"
      ]
     },
     "execution_count": 67,
     "metadata": {},
     "output_type": "execute_result"
    }
   ],
   "source": [
    "df.dtypes[df.dtypes == 'object']"
   ]
  },
  {
   "cell_type": "code",
   "execution_count": 68,
   "id": "ec30b132-faef-4ab0-8f65-41781a38a029",
   "metadata": {},
   "outputs": [],
   "source": [
    "#For each string column, convert all text to lowercase and replace spaces with underscores.string_columns = list(df.dtypes[df.dtypes == 'object'].index)\n",
    "string_columns = list(df.dtypes[df.dtypes == 'object'].index)\n",
    "for col in string_columns:\n",
    "    df[col].str.lower().str.replace(' ', '_')"
   ]
  },
  {
   "cell_type": "code",
   "execution_count": 69,
   "id": "2fc65c3d-fcd4-4086-ba21-4c4607a1471f",
   "metadata": {},
   "outputs": [
    {
     "data": {
      "text/html": [
       "<div>\n",
       "<style scoped>\n",
       "    .dataframe tbody tr th:only-of-type {\n",
       "        vertical-align: middle;\n",
       "    }\n",
       "\n",
       "    .dataframe tbody tr th {\n",
       "        vertical-align: top;\n",
       "    }\n",
       "\n",
       "    .dataframe thead th {\n",
       "        text-align: right;\n",
       "    }\n",
       "</style>\n",
       "<table border=\"1\" class=\"dataframe\">\n",
       "  <thead>\n",
       "    <tr style=\"text-align: right;\">\n",
       "      <th></th>\n",
       "      <th>make</th>\n",
       "      <th>model</th>\n",
       "      <th>year</th>\n",
       "      <th>engine_fuel_type</th>\n",
       "      <th>engine_hp</th>\n",
       "      <th>engine_cylinders</th>\n",
       "      <th>transmission_type</th>\n",
       "      <th>driven_wheels</th>\n",
       "      <th>number_of_doors</th>\n",
       "      <th>market_category</th>\n",
       "      <th>vehicle_size</th>\n",
       "      <th>vehicle_style</th>\n",
       "      <th>highway_mpg</th>\n",
       "      <th>city_mpg</th>\n",
       "      <th>popularity</th>\n",
       "      <th>msrp</th>\n",
       "    </tr>\n",
       "  </thead>\n",
       "  <tbody>\n",
       "    <tr>\n",
       "      <th>0</th>\n",
       "      <td>BMW</td>\n",
       "      <td>1 Series M</td>\n",
       "      <td>2011</td>\n",
       "      <td>premium unleaded (required)</td>\n",
       "      <td>335.0</td>\n",
       "      <td>6.0</td>\n",
       "      <td>MANUAL</td>\n",
       "      <td>rear wheel drive</td>\n",
       "      <td>2.0</td>\n",
       "      <td>Factory Tuner,Luxury,High-Performance</td>\n",
       "      <td>Compact</td>\n",
       "      <td>Coupe</td>\n",
       "      <td>26</td>\n",
       "      <td>19</td>\n",
       "      <td>3916</td>\n",
       "      <td>46135</td>\n",
       "    </tr>\n",
       "    <tr>\n",
       "      <th>1</th>\n",
       "      <td>BMW</td>\n",
       "      <td>1 Series</td>\n",
       "      <td>2011</td>\n",
       "      <td>premium unleaded (required)</td>\n",
       "      <td>300.0</td>\n",
       "      <td>6.0</td>\n",
       "      <td>MANUAL</td>\n",
       "      <td>rear wheel drive</td>\n",
       "      <td>2.0</td>\n",
       "      <td>Luxury,Performance</td>\n",
       "      <td>Compact</td>\n",
       "      <td>Convertible</td>\n",
       "      <td>28</td>\n",
       "      <td>19</td>\n",
       "      <td>3916</td>\n",
       "      <td>40650</td>\n",
       "    </tr>\n",
       "    <tr>\n",
       "      <th>2</th>\n",
       "      <td>BMW</td>\n",
       "      <td>1 Series</td>\n",
       "      <td>2011</td>\n",
       "      <td>premium unleaded (required)</td>\n",
       "      <td>300.0</td>\n",
       "      <td>6.0</td>\n",
       "      <td>MANUAL</td>\n",
       "      <td>rear wheel drive</td>\n",
       "      <td>2.0</td>\n",
       "      <td>Luxury,High-Performance</td>\n",
       "      <td>Compact</td>\n",
       "      <td>Coupe</td>\n",
       "      <td>28</td>\n",
       "      <td>20</td>\n",
       "      <td>3916</td>\n",
       "      <td>36350</td>\n",
       "    </tr>\n",
       "    <tr>\n",
       "      <th>3</th>\n",
       "      <td>BMW</td>\n",
       "      <td>1 Series</td>\n",
       "      <td>2011</td>\n",
       "      <td>premium unleaded (required)</td>\n",
       "      <td>230.0</td>\n",
       "      <td>6.0</td>\n",
       "      <td>MANUAL</td>\n",
       "      <td>rear wheel drive</td>\n",
       "      <td>2.0</td>\n",
       "      <td>Luxury,Performance</td>\n",
       "      <td>Compact</td>\n",
       "      <td>Coupe</td>\n",
       "      <td>28</td>\n",
       "      <td>18</td>\n",
       "      <td>3916</td>\n",
       "      <td>29450</td>\n",
       "    </tr>\n",
       "    <tr>\n",
       "      <th>4</th>\n",
       "      <td>BMW</td>\n",
       "      <td>1 Series</td>\n",
       "      <td>2011</td>\n",
       "      <td>premium unleaded (required)</td>\n",
       "      <td>230.0</td>\n",
       "      <td>6.0</td>\n",
       "      <td>MANUAL</td>\n",
       "      <td>rear wheel drive</td>\n",
       "      <td>2.0</td>\n",
       "      <td>Luxury</td>\n",
       "      <td>Compact</td>\n",
       "      <td>Convertible</td>\n",
       "      <td>28</td>\n",
       "      <td>18</td>\n",
       "      <td>3916</td>\n",
       "      <td>34500</td>\n",
       "    </tr>\n",
       "  </tbody>\n",
       "</table>\n",
       "</div>"
      ],
      "text/plain": [
       "  make       model  year             engine_fuel_type  engine_hp  \\\n",
       "0  BMW  1 Series M  2011  premium unleaded (required)      335.0   \n",
       "1  BMW    1 Series  2011  premium unleaded (required)      300.0   \n",
       "2  BMW    1 Series  2011  premium unleaded (required)      300.0   \n",
       "3  BMW    1 Series  2011  premium unleaded (required)      230.0   \n",
       "4  BMW    1 Series  2011  premium unleaded (required)      230.0   \n",
       "\n",
       "   engine_cylinders transmission_type     driven_wheels  number_of_doors  \\\n",
       "0               6.0            MANUAL  rear wheel drive              2.0   \n",
       "1               6.0            MANUAL  rear wheel drive              2.0   \n",
       "2               6.0            MANUAL  rear wheel drive              2.0   \n",
       "3               6.0            MANUAL  rear wheel drive              2.0   \n",
       "4               6.0            MANUAL  rear wheel drive              2.0   \n",
       "\n",
       "                         market_category vehicle_size vehicle_style  \\\n",
       "0  Factory Tuner,Luxury,High-Performance      Compact         Coupe   \n",
       "1                     Luxury,Performance      Compact   Convertible   \n",
       "2                Luxury,High-Performance      Compact         Coupe   \n",
       "3                     Luxury,Performance      Compact         Coupe   \n",
       "4                                 Luxury      Compact   Convertible   \n",
       "\n",
       "   highway_mpg  city_mpg  popularity   msrp  \n",
       "0           26        19        3916  46135  \n",
       "1           28        19        3916  40650  \n",
       "2           28        20        3916  36350  \n",
       "3           28        18        3916  29450  \n",
       "4           28        18        3916  34500  "
      ]
     },
     "execution_count": 69,
     "metadata": {},
     "output_type": "execute_result"
    }
   ],
   "source": [
    "df.head()"
   ]
  },
  {
   "cell_type": "markdown",
   "id": "d7f207da-4917-409d-9b7e-e440d5162152",
   "metadata": {},
   "source": [
    "#### Exploratory Data Analysis"
   ]
  },
  {
   "cell_type": "code",
   "execution_count": 70,
   "id": "304823ab-5b44-4a24-a113-2a0e82fe407c",
   "metadata": {},
   "outputs": [
    {
     "data": {
      "image/png": "[encoded data removed]",
      "text/plain": [
       "<Figure size 600x400 with 1 Axes>"
      ]
     },
     "metadata": {},
     "output_type": "display_data"
    }
   ],
   "source": [
    "# Create a new figure with a specified size of 6x4 inches.\n",
    "plt.figure(figsize=(6, 4))\n",
    "# Plot a histogram of the 'msrp' column (prices) using 40 bins, with black bars and full opacity.\n",
    "sns.histplot(df.msrp, bins=40, color='black', alpha=1)\n",
    "# Set the y-axis label to 'Frequency'.\n",
    "plt.ylabel('Frequency')\n",
    "# Set the x-axis label to 'Price'.\n",
    "plt.xlabel('Price')\n",
    "# Set the title of the plot to 'Distribution of prices'.\n",
    "plt.title('Distribution of price')\n",
    "# Display the plot.\n",
    "plt.show()"
   ]
  },
  {
   "cell_type": "code",
   "execution_count": 71,
   "id": "2c18292d-78de-478e-9d40-6c832fc6fb95",
   "metadata": {},
   "outputs": [
    {
     "data": {
      "image/png": "[encoded data removed]",
      "text/plain": [
       "<Figure size 600x400 with 1 Axes>"
      ]
     },
     "metadata": {},
     "output_type": "display_data"
    }
   ],
   "source": [
    "# Create a new figure with a size of 6x4 inches.\n",
    "plt.figure(figsize=(6, 4))\n",
    "# Plot a histogram of 'msrp' (prices) but only for values less than 100,000, using 40 bins, black bars, and full opacity.\n",
    "sns.histplot(df.msrp[df.msrp < 100000], bins=40, color='black', alpha=1)\n",
    "# Set the y-axis label to 'Frequency'.\n",
    "plt.ylabel('Frequency')\n",
    "# Set the x-axis label to 'Price'.\n",
    "plt.xlabel('Price')\n",
    "# Set the title of the plot to 'Distribution of prices'.\n",
    "plt.title('Distribution of prices')\n",
    "# Display the plot.\n",
    "plt.show()"
   ]
  },
  {
   "cell_type": "code",
   "execution_count": 72,
   "id": "5eb06522-f34f-436b-9f0d-2f2c21e0f9d6",
   "metadata": {},
   "outputs": [
    {
     "data": {
      "image/png": "[encoded data removed]",
      "text/plain": [
       "<Figure size 600x400 with 1 Axes>"
      ]
     },
     "metadata": {},
     "output_type": "display_data"
    }
   ],
   "source": [
    "# Apply a log transformation (log(1 + msrp)) to the 'msrp' column and store the result in 'log_price'. \n",
    "# This transformation helps to reduce skewness and stabilize variance in the data.\n",
    "log_price = np.log1p(df.msrp)\n",
    "# Create a new figure with a size of 6x4 inches.\n",
    "plt.figure(figsize=(6, 4))\n",
    "# Plot a histogram of the log-transformed 'msrp' prices, with 40 bins, black color, and full opacity.\n",
    "sns.histplot(log_price, bins=40, color='black', alpha=1)\n",
    "# Set the y-axis label to 'Frequency'.\n",
    "plt.ylabel('Frequency')\n",
    "# Set the x-axis label to 'Log(Price + 1)' to reflect the transformation applied to the prices.\n",
    "plt.xlabel('Log(Price + 1)')\n",
    "# Set the title of the plot to 'Distribution of prices after log transformation'.\n",
    "plt.title('Distribution of prices after log transformation')\n",
    "# Display the plot.\n",
    "plt.show()"
   ]
  },
  {
   "cell_type": "code",
   "execution_count": 73,
   "id": "b605cd0a-4cb5-4de8-9ed9-13b690467d99",
   "metadata": {
    "scrolled": true
   },
   "outputs": [
    {
     "data": {
      "text/plain": [
       "make                    0\n",
       "model                   0\n",
       "year                    0\n",
       "engine_fuel_type        3\n",
       "engine_hp              69\n",
       "engine_cylinders       30\n",
       "transmission_type       0\n",
       "driven_wheels           0\n",
       "number_of_doors         6\n",
       "market_category      3742\n",
       "vehicle_size            0\n",
       "vehicle_style           0\n",
       "highway_mpg             0\n",
       "city_mpg                0\n",
       "popularity              0\n",
       "msrp                    0\n",
       "dtype: int64"
      ]
     },
     "execution_count": 73,
     "metadata": {},
     "output_type": "execute_result"
    }
   ],
   "source": [
    "# This line of code checks for missing values (NaN) in each column of the dataframe 'df'.\n",
    "# 'isnull()' identifies where the missing values are located.\n",
    "# 'sum()' adds up the number of missing values for each column and returns a summary of the total number of missing values in each column.\n",
    "df.isnull().sum()"
   ]
  },
  {
   "cell_type": "markdown",
   "id": "c92dd730-f3c7-4187-b118-0e8af77fb7a8",
   "metadata": {},
   "source": [
    "#### Validation framework"
   ]
  },
  {
   "cell_type": "code",
   "execution_count": 74,
   "id": "d5885833-b881-44fe-8d4b-f31f3e501beb",
   "metadata": {},
   "outputs": [],
   "source": [
    "# Sets the random seed to 2 for reproducibility, ensuring that random operations produce the same results each time the code is run.\n",
    "np.random.seed(2)\n",
    "# Stores the total number of rows (observations) in the dataframe 'df' in the variable 'n'.\n",
    "n = len(df)\n",
    "\n",
    "# Calculates the number of validation samples (20% of total samples) and stores it in 'n_val'.\n",
    "n_val = int(0.2 * n)\n",
    "# Calculates the number of test samples (20% of total samples) and stores it in 'n_test'.\n",
    "n_test = int(0.2 * n)\n",
    "# Calculates the number of training samples by subtracting the validation and test sample counts from the total number of samples.\n",
    "n_train = n - (n_val + n_test)\n",
    "\n",
    "# Creates an array of indices from 0 to n-1.\n",
    "idx = np.arange(n)\n",
    "# Shuffles the array of indices in place to randomize the order.\n",
    "np.random.shuffle(idx)\n",
    "\n",
    "# Reorders the original dataframe 'df' according to the shuffled indices, creating 'df_shuffled'.\n",
    "df_shuffled = df.iloc[idx]\n",
    "\n",
    "# Selects the first 'n_train' rows from 'df_shuffled' to create the training dataset and makes a copy.\n",
    "df_train = df_shuffled.iloc[:n_train].copy()\n",
    "# Selects the next 'n_val' rows from 'df_shuffled' to create the validation dataset and makes a copy.\n",
    "df_val = df_shuffled.iloc[n_train:n_train+n_val].copy()\n",
    "# Selects the remaining rows from 'df_shuffled' to create the test dataset and makes a copy.\n",
    "df_test = df_shuffled.iloc[n_train+n_val:].copy()"
   ]
  },
  {
   "cell_type": "code",
   "execution_count": 75,
   "id": "9bef2f79-5e5a-4027-8721-ac0ae2752517",
   "metadata": {},
   "outputs": [],
   "source": [
    "# Extract original MSRP values for training, validation, and test sets\n",
    "y_train_orig = df_train.msrp.values\n",
    "y_val_orig = df_val.msrp.values\n",
    "y_test_orig = df_test.msrp.values\n",
    "\n",
    "# Apply log transformation to the MSRP values for training, validation, and test sets\n",
    "y_train = np.log1p(df_train.msrp.values)\n",
    "y_val = np.log1p(df_val.msrp.values)\n",
    "y_test = np.log1p(df_test.msrp.values)\n",
    "\n",
    "# Remove the 'msrp' column from the training, validation, and test DataFrames\n",
    "del df_train['msrp']\n",
    "del df_val['msrp']\n",
    "del df_test['msrp']"
   ]
  },
  {
   "cell_type": "markdown",
   "id": "494f99ae-31b2-4026-a781-6400c578f263",
   "metadata": {},
   "source": [
    "#### Linear Regression"
   ]
  },
  {
   "cell_type": "code",
   "execution_count": 76,
   "id": "4136e33c-0595-4ac8-9451-e6a4e84d512e",
   "metadata": {},
   "outputs": [],
   "source": [
    "def train_linear_regression(X, y):\n",
    "    # Create an array of ones with the same number of rows as X to account for the intercept term.\n",
    "    ones = np.ones(X.shape[0])\n",
    "     # Stack the ones column to the original feature matrix X to create an augmented matrix.\n",
    "    X = np.column_stack([ones, X])\n",
    "\n",
    "    # Calculate the matrix product of the transpose of X and X (X^T * X).\n",
    "    XTX = X.T.dot(X)\n",
    "    # Calculate the inverse of the matrix product (X^T * X) to use in the normal equation.\n",
    "    XTX_inv = np.linalg.inv(XTX)\n",
    "    # Compute the weights using the normal equation: w = (X^T * X)^-1 * (X^T * y).\n",
    "    w = XTX_inv.dot(X.T).dot(y)\n",
    "\n",
    "    # Return the intercept (first weight) and the coefficients (remaining weights).\n",
    "    return w[0], w[1:]"
   ]
  },
  {
   "cell_type": "markdown",
   "id": "dabe9022-7c3c-46e9-a26c-19ab8a8e9703",
   "metadata": {},
   "source": [
    "#### Baseline solution"
   ]
  },
  {
   "cell_type": "code",
   "execution_count": 77,
   "id": "d745749e-afb5-46b9-8700-573b72f936d4",
   "metadata": {},
   "outputs": [],
   "source": [
    "# List of base features for linear regression model training\n",
    "base = ['engine_hp', 'engine_cylinders', 'highway_mpg', 'city_mpg', 'popularity']"
   ]
  },
  {
   "cell_type": "code",
   "execution_count": 78,
   "id": "0a30eb96-eb8f-42f7-8aad-d2e4396e0a23",
   "metadata": {},
   "outputs": [],
   "source": [
    "# Prepare the feature matrix X by selecting numeric columns, filling missing values with 0, and returning the values as a NumPy array\n",
    "\n",
    "# Prepares the feature matrix X by selecting numeric columns, filling missing values with 0, and returning the values as a NumPy array.\n",
    "def prepare_X(df):\n",
    "    # Selects numeric columns defined in 'base' from the DataFrame\n",
    "    df_num = df[base]\n",
    "    # Fills any missing values with 0\n",
    "    df_num = df_num.fillna(0)\n",
    "    # Converts the DataFrame to a NumPy array\n",
    "    X = df_num.values\n",
    "    # Returns the prepared feature matrix\n",
    "    return X"
   ]
  },
  {
   "cell_type": "code",
   "execution_count": 79,
   "id": "ba1bd189-3c86-4ba6-8dd0-7a47b0ee31a5",
   "metadata": {},
   "outputs": [],
   "source": [
    "# Prepare the feature matrix X_train from the training data and train the linear regression model to obtain the weights w_0 (intercept) and w (coefficients)\n",
    "\n",
    "# Prepare the feature matrix X_train from the training DataFrame\n",
    "X_train = prepare_X(df_train)\n",
    "# Train the linear regression model using the prepared feature matrix and log-transformed target values\n",
    "w_0, w = train_linear_regression(X_train, y_train)"
   ]
  },
  {
   "cell_type": "code",
   "execution_count": 81,
   "id": "1e0ba662-2be1-46e3-a1cf-66e75fc64cde",
   "metadata": {},
   "outputs": [],
   "source": [
    "# Computes the predicted values (y_pred) by applying the linear regression model using the weights and the feature matrix X_train.\n",
    "y_pred = w_0 + X_train.dot(w)"
   ]
  },
  {
   "cell_type": "code",
   "execution_count": 84,
   "id": "d0038331-facf-4a89-9c1d-426e18a4a347",
   "metadata": {},
   "outputs": [
    {
     "data": {
      "image/png": "[encoded data removed]",
      "text/plain": [
       "<Figure size 600x400 with 1 Axes>"
      ]
     },
     "metadata": {},
     "output_type": "display_data"
    }
   ],
   "source": [
    "# Creates a new figure with a specified size (6x4 inches).\n",
    "plt.figure(figsize=(6, 4))\n",
    "\n",
    "# Plots a histogram of the actual target values (y_train) with a specified color and transparency, using 40 bins.\n",
    "sns.histplot(y_train, label='target', color='#222222', alpha=0.6, bins=40)\n",
    "\n",
    "# Plots a histogram of the predicted values (y_pred) in a different color and transparency, also using 40 bins.\n",
    "sns.histplot(y_pred, label='prediction', color='#aaaaaa', alpha=0.8, bins=40)\n",
    "\n",
    "# Adds a legend to differentiate the two histograms (target and prediction).\n",
    "plt.legend()\n",
    "\n",
    "# Labels the y-axis as 'Frequency'.\n",
    "plt.ylabel('Frequency')\n",
    "# Labels the x-axis as 'Log(Price + 1)'.\n",
    "plt.xlabel('Log(Price + 1)')\n",
    "# Adds a title to the plot.\n",
    "plt.title('Predictions vs actual distribution')\n",
    "\n",
    "# Displays the plot.\n",
    "plt.show()"
   ]
  },
  {
   "cell_type": "code",
   "execution_count": 91,
   "id": "c00fc4ab-b541-446b-8ef1-e24bb3aa92d3",
   "metadata": {},
   "outputs": [],
   "source": [
    "def rmse(y, y_pred):\n",
    "    # Calculate the difference (error) between predicted and actual values.\n",
    "    error = y_pred - y\n",
    "     # Compute the Mean Squared Error (MSE) by squaring the errors and finding their mean.\n",
    "    mse = (error ** 2).mean()\n",
    "    # Return the square root of MSE to get the Root Mean Squared Error (RMSE).\n",
    "    return np.sqrt(mse)"
   ]
  },
  {
   "cell_type": "code",
   "execution_count": 95,
   "id": "2a2d5d1c-b2a7-481f-bc98-03cf0aa34fa9",
   "metadata": {},
   "outputs": [],
   "source": [
    "def rmse(y, y_pred):\n",
    "    error = y_pred - y\n",
    "    mse = (error ** 2).mean()\n",
    "    return np.sqrt(mse)"
   ]
  },
  {
   "cell_type": "code",
   "execution_count": 90,
   "id": "5e89237a-4494-452f-bb93-bffa88c2e394",
   "metadata": {},
   "outputs": [
    {
     "data": {
      "text/plain": [
       "0.7554192603920132"
      ]
     },
     "execution_count": 90,
     "metadata": {},
     "output_type": "execute_result"
    }
   ],
   "source": [
    "# Calculate the Root Mean Squared Error (RMSE) between actual log-transformed prices (y_train) \n",
    "# and predicted prices (y_pred) from the model. This value gives an indication of how well the \n",
    "# model fits the training data, with a lower RMSE indicating better fit.\n",
    "rmse(y_train, y_pred)"
   ]
  },
  {
   "cell_type": "markdown",
   "id": "537bf4c4-53db-4917-93a2-ab3acb42639a",
   "metadata": {},
   "source": [
    "#### Simple feature engineering"
   ]
  },
  {
   "cell_type": "code",
   "execution_count": 97,
   "id": "71510b5d-4ad4-4985-84d2-659a2efb63b7",
   "metadata": {},
   "outputs": [],
   "source": [
    "def prepare_X(df):\n",
    "    # Create a copy of the dataframe to avoid modifying the original data\n",
    "    df = df.copy()\n",
    "    # Create a list of features (initially based on predefined 'base' features)\n",
    "    features = base.copy()\n",
    "\n",
    "     # Calculate the 'age' of the car (subtracting the year of manufacture from 2017)\n",
    "    df['age'] = 2017 - df.year\n",
    "    # Append the 'age' feature to the list of features to be included in the model\n",
    "    features.append('age')\n",
    "\n",
    "     # Select the numerical columns corresponding to the features\n",
    "    df_num = df[features]\n",
    "    # Fill any missing values with 0\n",
    "    df_num = df_num.fillna(0)\n",
    "    # Convert the dataframe into a NumPy array (matrix) for use in model training\n",
    "    X = df_num.values\n",
    "    # Return the prepared feature matrix\n",
    "    return X"
   ]
  },
  {
   "cell_type": "code",
   "execution_count": 99,
   "id": "d93f1e78-704c-4030-83a0-314a7a7eb62c",
   "metadata": {},
   "outputs": [
    {
     "name": "stdout",
     "output_type": "stream",
     "text": [
      "train 0.5175055465840046\n",
      "validation 0.5172055461058299\n"
     ]
    }
   ],
   "source": [
    "# Prepare the feature matrix for the training data by calling the prepare_X function.\n",
    "X_train = prepare_X(df_train)\n",
    "# Train the linear regression model using the training features (X_train) and target values (y_train).\n",
    "# This function returns the intercept (w_0) and the coefficients (w) for the linear regression.\n",
    "w_0, w = train_linear_regression(X_train, y_train)\n",
    "\n",
    "# Calculate the predicted values (y_pred) for the training set by taking the dot product of the feature matrix (X_train)\n",
    "# and the coefficient vector (w), then adding the intercept (w_0) to the result.\n",
    "y_pred = w_0 + X_train.dot(w)\n",
    "# Calculate and print the root mean square error (RMSE) between the actual training values (y_train) and the predicted values (y_pred).\n",
    "print('train', rmse(y_train, y_pred))\n",
    "\n",
    "# Prepare the feature matrix for the validation data by calling the prepare_X function.\n",
    "X_val = prepare_X(df_val)\n",
    "# Calculate the predicted values (y_pred) for the validation set in the same way as for the training set,\n",
    "# using the validation features (X_val) and the previously obtained intercept and coefficients (w_0, w).\n",
    "y_pred = w_0 + X_val.dot(w)\n",
    "# Calculate and print the RMSE for the validation set, comparing the actual validation values (y_val) with the predicted values (y_pred).\n",
    "print('validation', rmse(y_val, y_pred))"
   ]
  },
  {
   "cell_type": "code",
   "execution_count": 100,
   "id": "47ae261a-bfdd-4355-9411-d55df3261253",
   "metadata": {},
   "outputs": [
    {
     "data": {
      "image/png": "[encoded data removed]",
      "text/plain": [
       "<Figure size 600x400 with 1 Axes>"
      ]
     },
     "metadata": {},
     "output_type": "display_data"
    }
   ],
   "source": [
    "# Create a new figure for the plot with specified size (6x4 inches).\n",
    "plt.figure(figsize=(6, 4))\n",
    "\n",
    "# Plot the distribution of the actual validation target values (y_val) using a histogram.\n",
    "# The bars will be colored dark gray (#222222) with a transparency level of 0.6.\n",
    "sns.histplot(y_val, label='target', color='#222222', alpha=0.6, bins=40)\n",
    "# Plot the distribution of the predicted values (y_pred) using a histogram.\n",
    "# The bars will be colored light gray (#aaaaaa) with a transparency level of 0.8.\n",
    "sns.histplot(y_pred, label='prediction', color='#aaaaaa', alpha=0.8, bins=40)\n",
    "\n",
    "# Add a legend to the plot to distinguish between the target and predicted distributions.\n",
    "plt.legend()\n",
    "\n",
    "# Set the label for the y-axis as 'Frequency', indicating the count of occurrences in each bin.\n",
    "plt.ylabel('Frequency')\n",
    "#  Set the label for the x-axis as 'Log(Price + 1)', indicating the variable being plotted.\n",
    "plt.xlabel('Log(Price + 1)')\n",
    "# Set the title of the plot as 'Predictions vs actual distribution' to summarize what the plot represents.\n",
    "plt.title('Predictions vs actual distribution')\n",
    "\n",
    "# Display the plot.\n",
    "plt.show()"
   ]
  },
  {
   "cell_type": "code",
   "execution_count": 102,
   "id": "2b7ebda8-a33f-45ea-bbc5-17983d4ce967",
   "metadata": {},
   "outputs": [
    {
     "data": {
      "text/plain": [
       "make\n",
       "Chevrolet     1123\n",
       "Ford           881\n",
       "Volkswagen     809\n",
       "Toyota         746\n",
       "Dodge          626\n",
       "Name: count, dtype: int64"
      ]
     },
     "execution_count": 102,
     "metadata": {},
     "output_type": "execute_result"
    }
   ],
   "source": [
    "# Access the 'make' column from the DataFrame 'df', which contains the vehicle manufacturers.\n",
    "# Count the number of occurrences of each unique value (manufacturer) in the 'make' column.\n",
    "# This returns a Series sorted by the frequency of each manufacturer in descending order.\n",
    "# Retrieve the top 5 most common manufacturers and their counts.\n",
    "df['make'].value_counts().head(5)"
   ]
  },
  {
   "cell_type": "code",
   "execution_count": null,
   "id": "71df8e00-33fe-4ba7-86be-3a3daf0b4f3f",
   "metadata": {},
   "outputs": [],
   "source": []
  }
 ],
 "metadata": {
  "kernelspec": {
   "display_name": "Python 3 (ipykernel)",
   "language": "python",
   "name": "python3"
  },
  "language_info": {
   "codemirror_mode": {
    "name": "ipython",
    "version": 3
   },
   "file_extension": ".py",
   "mimetype": "text/x-python",
   "name": "python",
   "nbconvert_exporter": "python",
   "pygments_lexer": "ipython3",
   "version": "3.12.5"
  }
 },
 "nbformat": 4,
 "nbformat_minor": 5
}
