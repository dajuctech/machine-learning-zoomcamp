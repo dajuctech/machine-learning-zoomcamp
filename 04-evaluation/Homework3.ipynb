{
 "cells": [
  {
   "cell_type": "markdown",
   "id": "f6377e62-1f8c-42e7-a6c4-aa08835520cd",
   "metadata": {},
   "source": [
    "### Step 1: Setup and Dataset Preparation"
   ]
  },
  {
   "cell_type": "code",
   "execution_count": 7,
   "id": "b75312c9-4eee-456e-ac9f-0dbde1c7e410",
   "metadata": {},
   "outputs": [
    {
     "ename": "SyntaxError",
     "evalue": "invalid syntax (13340021.py, line 2)",
     "output_type": "error",
     "traceback": [
      "\u001b[1;36m  Cell \u001b[1;32mIn[7], line 2\u001b[1;36m\u001b[0m\n\u001b[1;33m    wget https://archive.ics.uci.edu/static/public/222/bank+marketing.zip\u001b[0m\n\u001b[1;37m         ^\u001b[0m\n\u001b[1;31mSyntaxError\u001b[0m\u001b[1;31m:\u001b[0m invalid syntax\n"
     ]
    }
   ],
   "source": [
    "# Download and unzip the dataset\n",
    "wget https://archive.ics.uci.edu/static/public/222/bank+marketing.zip\n",
    "unzip bank+marketing.zip\n",
    "unzip bank.zip"
   ]
  },
  {
   "cell_type": "markdown",
   "id": "86a0357a-b052-490f-9e1f-853f413b568f",
   "metadata": {},
   "source": [
    "### In Python, you'll need to load the dataset and split it into train/validation/test datasets:"
   ]
  },
  {
   "cell_type": "code",
   "execution_count": 8,
   "id": "c4aa37ba-8de8-49b6-8798-c8264514fa69",
   "metadata": {},
   "outputs": [],
   "source": [
    "import pandas as pd\n",
    "from sklearn.model_selection import train_test_split\n",
    "\n",
    "# Load the dataset\n",
    "df = pd.read_csv('bank-full.csv', sep=';')\n",
    "\n",
    "# Columns of interest\n",
    "columns = ['age', 'job', 'marital', 'education', 'balance', 'housing', 'contact',\n",
    "           'day', 'month', 'duration', 'campaign', 'pdays', 'previous', 'poutcome', 'y']\n",
    "\n",
    "df = df[columns]\n",
    "\n",
    "# Encode the target variable\n",
    "df['y'] = df['y'].apply(lambda x: 1 if x == 'yes' else 0)\n",
    "\n",
    "# Split the data into train (60%), validation (20%), and test (20%)\n",
    "df_full_train, df_test = train_test_split(df, test_size=0.2, random_state=1)\n",
    "df_train, df_val = train_test_split(df_full_train, test_size=0.25, random_state=1)  # 0.25 x 0.8 = 0.2"
   ]
  },
  {
   "cell_type": "markdown",
   "id": "bd064241-a386-4bb4-a445-d5cd2172e22d",
   "metadata": {},
   "source": [
    "### Question 1: ROC AUC Feature Importance"
   ]
  },
  {
   "cell_type": "code",
   "execution_count": 9,
   "id": "7f734110-125b-474d-9a66-cbd7d8e76058",
   "metadata": {},
   "outputs": [
    {
     "name": "stdout",
     "output_type": "stream",
     "text": [
      "balance: 0.5888313805382317\n",
      "day: 0.525957882383908\n",
      "duration: 0.8147002759670778\n",
      "previous: 0.5985653242764153\n"
     ]
    }
   ],
   "source": [
    "from sklearn.metrics import roc_auc_score\n",
    "\n",
    "# Select numerical columns\n",
    "numerical_cols = ['balance', 'day', 'duration', 'previous']\n",
    "\n",
    "# Compute AUC for each numerical column\n",
    "for col in numerical_cols:\n",
    "    auc = roc_auc_score(df_train['y'], df_train[col])\n",
    "    if auc < 0.5:\n",
    "        auc = roc_auc_score(df_train['y'], -df_train[col])  # Invert if AUC < 0.5\n",
    "    print(f'{col}: {auc}')"
   ]
  },
  {
   "cell_type": "markdown",
   "id": "5fd3eea1-735b-45b1-8944-521e8ff8b689",
   "metadata": {},
   "source": [
    "##### The variable with the highest AUC will be duration based on typical behaviour of this dataset."
   ]
  },
  {
   "cell_type": "markdown",
   "id": "b0efa04c-183e-475c-87fc-59f018a3ea05",
   "metadata": {},
   "source": [
    "### Question 2: Training the Model\n",
    "##### To train a logistic regression model, apply one-hot encoding using DictVectorizer and train the model using LogisticRegression."
   ]
  },
  {
   "cell_type": "code",
   "execution_count": 11,
   "id": "d62468f8-89bd-476e-9e31-5290975cd672",
   "metadata": {},
   "outputs": [],
   "source": [
    "# Define categorical columns\n",
    "categorical_cols = ['job', 'marital', 'education', 'housing', 'contact', 'month', 'poutcome']"
   ]
  },
  {
   "cell_type": "code",
   "execution_count": 12,
   "id": "e37890d6-3d40-4b76-be45-479a92bb55b2",
   "metadata": {},
   "outputs": [
    {
     "name": "stdout",
     "output_type": "stream",
     "text": [
      "Validation AUC: 0.7683516514508665\n"
     ]
    }
   ],
   "source": [
    "from sklearn.feature_extraction import DictVectorizer\n",
    "from sklearn.linear_model import LogisticRegression\n",
    "from sklearn.metrics import roc_auc_score\n",
    "\n",
    "# One-hot encode categorical variables\n",
    "train_dicts = df_train[categorical_cols].to_dict(orient='records')\n",
    "val_dicts = df_val[categorical_cols].to_dict(orient='records')\n",
    "\n",
    "dv = DictVectorizer(sparse=False)\n",
    "X_train = dv.fit_transform(train_dicts)\n",
    "X_val = dv.transform(val_dicts)\n",
    "\n",
    "# Train the logistic regression model\n",
    "model = LogisticRegression(solver='liblinear', C=1.0, max_iter=1000)\n",
    "model.fit(X_train, df_train['y'])\n",
    "\n",
    "# Predict probabilities on the validation set\n",
    "y_pred = model.predict_proba(X_val)[:, 1]\n",
    "\n",
    "# Compute the AUC on the validation set\n",
    "auc_val = roc_auc_score(df_val['y'], y_pred)\n",
    "print(f'Validation AUC: {auc_val}')"
   ]
  },
  {
   "cell_type": "markdown",
   "id": "fd940cf8-ff84-4bd8-a636-67f935c4d23d",
   "metadata": {},
   "source": [
    "### Question 3: Precision and Recall\n",
    "##### To compute precision and recall for thresholds from 0.0 to 1.0, iterate through thresholds and plot the curves."
   ]
  },
  {
   "cell_type": "code",
   "execution_count": 13,
   "id": "4f63e1c9-0e89-49a4-b818-aefc0bda0a17",
   "metadata": {},
   "outputs": [
    {
     "name": "stderr",
     "output_type": "stream",
     "text": [
      "C:\\Users\\USER\\AppData\\Local\\Programs\\Python\\Python312\\Lib\\site-packages\\sklearn\\metrics\\_classification.py:1531: UndefinedMetricWarning: Precision is ill-defined and being set to 0.0 due to no predicted samples. Use `zero_division` parameter to control this behavior.\n",
      "  _warn_prf(average, modifier, f\"{metric.capitalize()} is\", len(result))\n",
      "C:\\Users\\USER\\AppData\\Local\\Programs\\Python\\Python312\\Lib\\site-packages\\sklearn\\metrics\\_classification.py:1531: UndefinedMetricWarning: Precision is ill-defined and being set to 0.0 due to no predicted samples. Use `zero_division` parameter to control this behavior.\n",
      "  _warn_prf(average, modifier, f\"{metric.capitalize()} is\", len(result))\n",
      "C:\\Users\\USER\\AppData\\Local\\Programs\\Python\\Python312\\Lib\\site-packages\\sklearn\\metrics\\_classification.py:1531: UndefinedMetricWarning: Precision is ill-defined and being set to 0.0 due to no predicted samples. Use `zero_division` parameter to control this behavior.\n",
      "  _warn_prf(average, modifier, f\"{metric.capitalize()} is\", len(result))\n",
      "C:\\Users\\USER\\AppData\\Local\\Programs\\Python\\Python312\\Lib\\site-packages\\sklearn\\metrics\\_classification.py:1531: UndefinedMetricWarning: Precision is ill-defined and being set to 0.0 due to no predicted samples. Use `zero_division` parameter to control this behavior.\n",
      "  _warn_prf(average, modifier, f\"{metric.capitalize()} is\", len(result))\n",
      "C:\\Users\\USER\\AppData\\Local\\Programs\\Python\\Python312\\Lib\\site-packages\\sklearn\\metrics\\_classification.py:1531: UndefinedMetricWarning: Precision is ill-defined and being set to 0.0 due to no predicted samples. Use `zero_division` parameter to control this behavior.\n",
      "  _warn_prf(average, modifier, f\"{metric.capitalize()} is\", len(result))\n",
      "C:\\Users\\USER\\AppData\\Local\\Programs\\Python\\Python312\\Lib\\site-packages\\sklearn\\metrics\\_classification.py:1531: UndefinedMetricWarning: Precision is ill-defined and being set to 0.0 due to no predicted samples. Use `zero_division` parameter to control this behavior.\n",
      "  _warn_prf(average, modifier, f\"{metric.capitalize()} is\", len(result))\n",
      "C:\\Users\\USER\\AppData\\Local\\Programs\\Python\\Python312\\Lib\\site-packages\\sklearn\\metrics\\_classification.py:1531: UndefinedMetricWarning: Precision is ill-defined and being set to 0.0 due to no predicted samples. Use `zero_division` parameter to control this behavior.\n",
      "  _warn_prf(average, modifier, f\"{metric.capitalize()} is\", len(result))\n"
     ]
    },
    {
     "data": {
      "image/png": "[encoded data removed]",
      "text/plain": [
       "<Figure size 640x480 with 1 Axes>"
      ]
     },
     "metadata": {},
     "output_type": "display_data"
    }
   ],
   "source": [
    "import numpy as np\n",
    "import matplotlib.pyplot as plt\n",
    "from sklearn.metrics import precision_score, recall_score\n",
    "\n",
    "# Evaluate precision and recall for each threshold\n",
    "thresholds = np.arange(0.0, 1.01, 0.01)\n",
    "precisions = []\n",
    "recalls = []\n",
    "\n",
    "for t in thresholds:\n",
    "    pred_labels = (y_pred >= t).astype(int)\n",
    "    precisions.append(precision_score(df_val['y'], pred_labels))\n",
    "    recalls.append(recall_score(df_val['y'], pred_labels))\n",
    "\n",
    "# Plot precision and recall curves\n",
    "plt.plot(thresholds, precisions, label='Precision')\n",
    "plt.plot(thresholds, recalls, label='Recall')\n",
    "plt.xlabel('Threshold')\n",
    "plt.legend()\n",
    "plt.show()"
   ]
  },
  {
   "cell_type": "markdown",
   "id": "4ff27923-6eb7-4072-bb53-c60224af6486",
   "metadata": {},
   "source": [
    "### Question 4: F1 Score\n",
    "##### To compute F1 scores for each threshold:"
   ]
  },
  {
   "cell_type": "code",
   "execution_count": 14,
   "id": "13e9946d-0822-4213-b670-bbb3bd07b791",
   "metadata": {},
   "outputs": [
    {
     "data": {
      "image/png": "[encoded data removed]",
      "text/plain": [
       "<Figure size 640x480 with 1 Axes>"
      ]
     },
     "metadata": {},
     "output_type": "display_data"
    },
    {
     "name": "stdout",
     "output_type": "stream",
     "text": [
      "Best threshold for F1: 0.18\n"
     ]
    }
   ],
   "source": [
    "from sklearn.metrics import f1_score\n",
    "\n",
    "f1_scores = []\n",
    "\n",
    "for t in thresholds:\n",
    "    pred_labels = (y_pred >= t).astype(int)\n",
    "    f1_scores.append(f1_score(df_val['y'], pred_labels))\n",
    "\n",
    "# Plot F1 score curve\n",
    "plt.plot(thresholds, f1_scores)\n",
    "plt.xlabel('Threshold')\n",
    "plt.ylabel('F1 Score')\n",
    "plt.show()\n",
    "\n",
    "# Find the threshold where F1 is maximal\n",
    "best_threshold = thresholds[np.argmax(f1_scores)]\n",
    "print(f'Best threshold for F1: {best_threshold}')"
   ]
  },
  {
   "cell_type": "markdown",
   "id": "04f0ad50-d305-43dd-bb19-2c179a96ea13",
   "metadata": {},
   "source": [
    "### Question 5: 5-Fold CV\n",
    "##### Use KFold for cross-validation and compute the AUC for each fold:"
   ]
  },
  {
   "cell_type": "code",
   "execution_count": 15,
   "id": "15baef58-4288-43bb-9cfd-c95b9b941e07",
   "metadata": {},
   "outputs": [
    {
     "name": "stdout",
     "output_type": "stream",
     "text": [
      "Standard deviation of scores: 0.009466214203865626\n"
     ]
    }
   ],
   "source": [
    "from sklearn.model_selection import KFold\n",
    "\n",
    "kf = KFold(n_splits=5, shuffle=True, random_state=1)\n",
    "scores = []\n",
    "\n",
    "for train_idx, val_idx in kf.split(df_full_train):\n",
    "    df_train_cv = df_full_train.iloc[train_idx]\n",
    "    df_val_cv = df_full_train.iloc[val_idx]\n",
    "    \n",
    "    # One-hot encode and train the model\n",
    "    train_dicts = df_train_cv[categorical_cols].to_dict(orient='records')\n",
    "    val_dicts = df_val_cv[categorical_cols].to_dict(orient='records')\n",
    "    \n",
    "    X_train_cv = dv.fit_transform(train_dicts)\n",
    "    X_val_cv = dv.transform(val_dicts)\n",
    "    \n",
    "    model = LogisticRegression(solver='liblinear', C=1.0, max_iter=1000)\n",
    "    model.fit(X_train_cv, df_train_cv['y'])\n",
    "    \n",
    "    y_pred_cv = model.predict_proba(X_val_cv)[:, 1]\n",
    "    \n",
    "    auc_cv = roc_auc_score(df_val_cv['y'], y_pred_cv)\n",
    "    scores.append(auc_cv)\n",
    "\n",
    "# Calculate standard deviation\n",
    "std_dev = np.std(scores)\n",
    "print(f'Standard deviation of scores: {std_dev}')"
   ]
  },
  {
   "cell_type": "markdown",
   "id": "04ee507b-a8c5-484e-85a8-9c3f4da67b14",
   "metadata": {},
   "source": [
    "### Question 6: Hyperparameter Tuning\n",
    "##### To tune the hyperparameter C"
   ]
  },
  {
   "cell_type": "code",
   "execution_count": 16,
   "id": "728aa204-f5e1-4503-9617-dbe09fe683de",
   "metadata": {},
   "outputs": [
    {
     "name": "stdout",
     "output_type": "stream",
     "text": [
      "C=1e-06, mean AUC=0.6588308600337378, std=0.008831040101247757\n",
      "C=0.001, mean AUC=0.7290937096891454, std=0.009945336279554065\n",
      "C=1, mean AUC=0.7561683784166823, std=0.009466214203865626\n",
      "Best C: 1\n"
     ]
    }
   ],
   "source": [
    "C_values = [0.000001, 0.001, 1]\n",
    "results = []\n",
    "\n",
    "for C in C_values:\n",
    "    scores = []\n",
    "    \n",
    "    for train_idx, val_idx in kf.split(df_full_train):\n",
    "        df_train_cv = df_full_train.iloc[train_idx]\n",
    "        df_val_cv = df_full_train.iloc[val_idx]\n",
    "        \n",
    "        train_dicts = df_train_cv[categorical_cols].to_dict(orient='records')\n",
    "        val_dicts = df_val_cv[categorical_cols].to_dict(orient='records')\n",
    "        \n",
    "        X_train_cv = dv.fit_transform(train_dicts)\n",
    "        X_val_cv = dv.transform(val_dicts)\n",
    "        \n",
    "        model = LogisticRegression(solver='liblinear', C=C, max_iter=1000)\n",
    "        model.fit(X_train_cv, df_train_cv['y'])\n",
    "        \n",
    "        y_pred_cv = model.predict_proba(X_val_cv)[:, 1]\n",
    "        \n",
    "        auc_cv = roc_auc_score(df_val_cv['y'], y_pred_cv)\n",
    "        scores.append(auc_cv)\n",
    "    \n",
    "    mean_score = np.mean(scores)\n",
    "    std_dev = np.std(scores)\n",
    "    \n",
    "    results.append((C, mean_score, std_dev))\n",
    "    print(f'C={C}, mean AUC={mean_score}, std={std_dev}')\n",
    "\n",
    "# Find the best C\n",
    "best_result = max(results, key=lambda x: (x[1], -x[2]))\n",
    "print(f'Best C: {best_result[0]}')"
   ]
  },
  {
   "cell_type": "code",
   "execution_count": null,
   "id": "2f6565da-9015-4c03-8cf1-0e5af4ebe671",
   "metadata": {},
   "outputs": [],
   "source": []
  }
 ],
 "metadata": {
  "kernelspec": {
   "display_name": "Python 3 (ipykernel)",
   "language": "python",
   "name": "python3"
  },
  "language_info": {
   "codemirror_mode": {
    "name": "ipython",
    "version": 3
   },
   "file_extension": ".py",
   "mimetype": "text/x-python",
   "name": "python",
   "nbconvert_exporter": "python",
   "pygments_lexer": "ipython3",
   "version": "3.12.5"
  }
 },
 "nbformat": 4,
 "nbformat_minor": 5
}
